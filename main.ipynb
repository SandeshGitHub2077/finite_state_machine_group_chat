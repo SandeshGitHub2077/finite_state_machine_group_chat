{
 "cells": [
  {
   "cell_type": "code",
   "execution_count": 12,
   "id": "65ffe518",
   "metadata": {},
   "outputs": [],
   "source": [
    "# Load environment variables\n",
    "import os\n",
    "from dotenv import load_dotenv\n",
    "\n",
    "load_dotenv()\n",
    "assert os.getenv(\"OPENAI_API_KEY\"), \"OPENAI_API_KEY is not set!\"\n"
   ]
  },
  {
   "cell_type": "code",
   "execution_count": 13,
   "id": "a4bb6b21",
   "metadata": {},
   "outputs": [
    {
     "name": "stdout",
     "output_type": "stream",
     "text": [
      "AutoGen version: 0.2.40\n"
     ]
    }
   ],
   "source": [
    "# Import libraries for visualization and AutoGen\n",
    "import random\n",
    "import matplotlib.pyplot as plt\n",
    "import networkx as nx\n",
    "import autogen\n",
    "from autogen.agentchat.conversable_agent import ConversableAgent\n",
    "from autogen.agentchat.assistant_agent import AssistantAgent\n",
    "from autogen.agentchat.user_proxy_agent import UserProxyAgent\n",
    "from autogen.agentchat.groupchat import GroupChat\n",
    "from autogen.graph_utils import visualize_speaker_transitions_dict\n",
    "\n",
    "print(\"AutoGen version:\", autogen.__version__)\n"
   ]
  },
  {
   "cell_type": "code",
   "execution_count": 14,
   "id": "31365d8c",
   "metadata": {},
   "outputs": [],
   "source": [
    "# Function to fetch agent by name\n",
    "def get_agent_of_name(agents, name):\n",
    "    for agent in agents:\n",
    "        if agent.name == name:\n",
    "            return agent\n"
   ]
  },
  {
   "cell_type": "code",
   "execution_count": 15,
   "id": "4d7de271",
   "metadata": {},
   "outputs": [],
   "source": [
    "# LLM Configuration\n",
    "config_list_gpt4 = [\n",
    "    {\n",
    "        \"model\": \"gpt-3.5-turbo\",\n",
    "        \"api_key\": os.getenv(\"OPENAI_API_KEY\"),\n",
    "    }\n",
    "]\n",
    "\n",
    "llm_config_gpt4 = {\n",
    "    \"timeout\": 600,\n",
    "    \"cache_seed\": 44,\n",
    "    \"config_list\": config_list_gpt4,\n",
    "    \"temperature\": 0,\n",
    "}\n"
   ]
  },
  {
   "cell_type": "code",
   "execution_count": 16,
   "id": "88f17a55",
   "metadata": {},
   "outputs": [],
   "source": [
    "# Initialize agents and structure\n",
    "agents = []\n",
    "speaker_transitions_dict = {}\n",
    "secret_values = {}\n",
    "team_members = {\"A\": [], \"B\": [], \"C\": []}\n"
   ]
  },
  {
   "cell_type": "code",
   "execution_count": 17,
   "id": "73d89fb9",
   "metadata": {},
   "outputs": [],
   "source": [
    "# Create 3 teams (A, B, C) with 3 members each\n",
    "for prefix in [\"A\", \"B\", \"C\"]:\n",
    "    for i in range(3):\n",
    "        node_id = f\"{prefix}{i}\"\n",
    "        secret = random.randint(1, 5)\n",
    "        secret_values[node_id] = secret\n",
    "        team_members[prefix].append(node_id)\n",
    "\n",
    "        agent = AssistantAgent(\n",
    "            name=node_id,\n",
    "            llm_config=llm_config_gpt4,\n",
    "            system_message = f\"\"\"\n",
    "Your name is {node_id}. You have {secret} chocolates.\n",
    "\n",
    "\\U0001F3AF GOAL:\n",
    "Determine the total number of chocolates across all players.\n",
    "\n",
    "🔐 RULES FOR EVERYONE:\n",
    "- Speak ONLY if your name is listed after `NEXT:` in the previous message.\n",
    "- Announce **your own** chocolate count only. Never report others’ counts.\n",
    "- Use `NEXT: <name>` (one name only) to hand over control.\n",
    "- Stick to this format: A0:?, A1:?, A2:?, ..., C2:?\n",
    "\n",
    "👥 TEAM RULES:\n",
    "- Talk only with your own team members.\n",
    "- Team members cannot speak to other teams.\n",
    "- Only team leaders (A0, B0, C0) may speak with other leaders or Critic.\n",
    "\n",
    "👑 TEAM LEADER DUTIES:\n",
    "- Wait for teammates (1 and 2) to report their counts.\n",
    "- Compute team total once everyone reports.\n",
    "- Then pass to the next team leader or `Critic` for validation.\n",
    "- NEVER summarize other teams’ totals.\n",
    "- Only the **final team leader** should say `TERMINATE`.\n",
    "\n",
    "🧐 CRITIC:\n",
    "- Critic will independently verify all team reports.\n",
    "- Do NOT write Critic messages yourself.\n",
    "\n",
    "✅ Example:\n",
    "A1: I have 3 chocolates.  \n",
    "NEXT: A2\n",
    "\n",
    "A2: I have 4 chocolates.  \n",
    "NEXT: A0\n",
    "\n",
    "A0: Team A total: 9  \n",
    "NEXT: B0\n",
    "\n",
    "...\n",
    "C0: A total: 9, B total: 7, C total: 5  \n",
    "Grand Total: 21  \n",
    "TERMINATE\n",
    "\n",
    "\"\"\"\n",
    "        )\n",
    "\n",
    "        agents.append(agent)\n",
    "        speaker_transitions_dict[agent] = []\n"
   ]
  },
  {
   "cell_type": "code",
   "execution_count": 18,
   "id": "7810a0af",
   "metadata": {},
   "outputs": [],
   "source": [
    "# Allow each team member to talk only within their own team\n",
    "for prefix in [\"A\", \"B\", \"C\"]:\n",
    "    for src in range(3):\n",
    "        for tgt in range(3):\n",
    "            if src != tgt:\n",
    "                speaker_transitions_dict[get_agent_of_name(agents, f\"{prefix}{src}\")].append(\n",
    "                    get_agent_of_name(agents, f\"{prefix}{tgt}\")\n",
    "                )\n"
   ]
  },
  {
   "cell_type": "code",
   "execution_count": 19,
   "id": "598445b0",
   "metadata": {},
   "outputs": [],
   "source": [
    "#Adding Critic\n",
    "critic_agent = AssistantAgent(\n",
    "    name=\"Critic\",\n",
    "    llm_config=llm_config_gpt4,\n",
    "    system_message=\"\"\"You are the Critic...\n",
    "(Refer to full prompt)\n",
    "\"\"\"\n",
    ")\n",
    "agents.append(critic_agent)\n",
    "speaker_transitions_dict[critic_agent] = []\n"
   ]
  },
  {
   "cell_type": "code",
   "execution_count": 20,
   "id": "321fe19e",
   "metadata": {},
   "outputs": [],
   "source": [
    "leader_pairs = [(\"A0\", \"B0\"), (\"A0\", \"C0\"), (\"B0\", \"A0\"), (\"B0\", \"C0\"), (\"C0\", \"A0\"), (\"C0\", \"B0\")]\n",
    "for src, tgt in leader_pairs:\n",
    "    speaker_transitions_dict[get_agent_of_name(agents, src)].append(get_agent_of_name(agents, tgt))\n",
    "\n",
    "# Leader to Critic\n",
    "for leader in [\"A0\", \"B0\", \"C0\"]:\n",
    "    speaker_transitions_dict[get_agent_of_name(agents, leader)].append(\n",
    "        get_agent_of_name(agents, \"Critic\")\n",
    "    )\n",
    "\n",
    "# Critic can hand control back to any leader\n",
    "speaker_transitions_dict[get_agent_of_name(agents, \"Critic\")] = [\n",
    "    get_agent_of_name(agents, \"B0\"),\n",
    "    get_agent_of_name(agents, \"C0\"),\n",
    "    get_agent_of_name(agents, \"A0\"),\n",
    "]\n"
   ]
  },
  {
   "cell_type": "code",
   "execution_count": 21,
   "id": "bd21b392",
   "metadata": {},
   "outputs": [],
   "source": [
    "user_proxy = UserProxyAgent(\n",
    "    name=\"User_proxy\",\n",
    "    system_message=\"Admin agent to detect TERMINATE.\",\n",
    "    code_execution_config=False,\n",
    "    is_termination_msg=lambda msg: \"TERMINATE\" in msg.get(\"content\", \"\"),\n",
    "    human_input_mode=\"NEVER\",\n",
    ")\n",
    "agents.append(user_proxy)\n",
    "speaker_transitions_dict[user_proxy] = []\n"
   ]
  },
  {
   "cell_type": "code",
   "execution_count": 22,
   "id": "b23de76f",
   "metadata": {},
   "outputs": [],
   "source": [
    "# Ensure speaker transition dict only contains valid agent references\n",
    "valid_agents_set = set(agents)\n",
    "speaker_transitions_dict = {\n",
    "    agent: [t for t in targets if t in valid_agents_set]\n",
    "    for agent, targets in speaker_transitions_dict.items()\n",
    "    if agent in valid_agents_set\n",
    "}\n"
   ]
  },
  {
   "cell_type": "code",
   "execution_count": 23,
   "id": "f14ff8d4",
   "metadata": {},
   "outputs": [
    {
     "data": {
      "image/png": "[encoded data removed]",
      "text/plain": [
       "<Figure size 1200x1000 with 1 Axes>"
      ]
     },
     "metadata": {},
     "output_type": "display_data"
    }
   ],
   "source": [
    "# Create and show the graph with chocolate secrets\n",
    "graph = nx.DiGraph()\n",
    "graph.add_nodes_from([a.name for a in agents])\n",
    "for src, targets in speaker_transitions_dict.items():\n",
    "    for tgt in targets:\n",
    "        graph.add_edge(src.name, tgt.name)\n",
    "\n",
    "plt.figure(figsize=(12, 10))\n",
    "pos = nx.spring_layout(graph)\n",
    "nx.draw(graph, pos, with_labels=True, node_size=2000)\n",
    "for node, (x, y) in pos.items():\n",
    "    if node in secret_values:\n",
    "        plt.text(x, y + 0.1, f\"Secret: {secret_values[node]}\", ha=\"center\")\n",
    "plt.title(\"Speaker Transition Graph with Chocolate Counts\")\n",
    "plt.show()\n"
   ]
  },
  {
   "cell_type": "code",
   "execution_count": 24,
   "id": "3853cde8",
   "metadata": {},
   "outputs": [
    {
     "name": "stderr",
     "output_type": "stream",
     "text": [
      "WARNING:root:Warning: There are isolated agent nodes, there are not incoming nor outgoing edges. Isolated agents: ['User_proxy']\n",
      "WARNING:root:Warning: The set of agents in allowed_speaker_transitions do not match agents. Offending agents: ['User_proxy']\n"
     ]
    }
   ],
   "source": [
    "group_chat = GroupChat(\n",
    "    agents=agents,\n",
    "    messages=[],\n",
    "    max_round=20,\n",
    "    allowed_or_disallowed_speaker_transitions=speaker_transitions_dict,\n",
    "    speaker_transitions_type=\"allowed\",\n",
    ")\n"
   ]
  },
  {
   "cell_type": "code",
   "execution_count": 25,
   "id": "edbae0d0",
   "metadata": {},
   "outputs": [],
   "source": [
    "manager = autogen.GroupChatManager(\n",
    "    groupchat=group_chat,\n",
    "    llm_config=llm_config_gpt4,\n",
    "    code_execution_config=False,\n",
    "    is_termination_msg=lambda msg: \"TERMINATE\" in msg.get(\"content\", \"\"),\n",
    ")\n"
   ]
  },
  {
   "cell_type": "code",
   "execution_count": 26,
   "id": "8fce4156",
   "metadata": {},
   "outputs": [
    {
     "name": "stdout",
     "output_type": "stream",
     "text": [
      "\u001b[33mA0\u001b[0m (to chat_manager):\n",
      "\n",
      "\n",
      "There are 9 players across Teams A, B, C. Each team has 3 players.\n",
      "Your job is to count the total chocolates.\n",
      "Only say your own count. Team leaders must summarize team total after members report.\n",
      "Critic will validate after each team finishes.\n",
      "\n",
      "Start with Team A.\n",
      "NEXT: A1\n",
      "\n",
      "\n",
      "--------------------------------------------------------------------------------\n",
      "\u001b[32m\n",
      "Next speaker: A1\n",
      "\u001b[0m\n",
      "\u001b[33mA1\u001b[0m (to chat_manager):\n",
      "\n",
      "A1: I have 3 chocolates.\n",
      "NEXT: A2\n",
      "\n",
      "--------------------------------------------------------------------------------\n",
      "\u001b[32m\n",
      "Next speaker: A2\n",
      "\u001b[0m\n",
      "\u001b[33mA2\u001b[0m (to chat_manager):\n",
      "\n",
      "A2: I have 2 chocolates.\n",
      "NEXT: A0\n",
      "\n",
      "--------------------------------------------------------------------------------\n",
      "\u001b[32m\n",
      "Next speaker: A1\n",
      "\u001b[0m\n",
      "\u001b[33mA1\u001b[0m (to chat_manager):\n",
      "\n",
      "A0: Team A total: 5  \n",
      "NEXT: B1\n",
      "\n",
      "--------------------------------------------------------------------------------\n",
      "\u001b[32m\n",
      "Next speaker: A2\n",
      "\u001b[0m\n",
      "\u001b[33mA2\u001b[0m (to chat_manager):\n",
      "\n",
      "B1: I have 4 chocolates.\n",
      "NEXT: B2\n",
      "\n",
      "--------------------------------------------------------------------------------\n",
      "\u001b[32m\n",
      "Next speaker: A0\n",
      "\u001b[0m\n",
      "\u001b[33mA0\u001b[0m (to chat_manager):\n",
      "\n",
      "B2: I have 3 chocolates.\n",
      "NEXT: B0\n",
      "\n",
      "--------------------------------------------------------------------------------\n",
      "\u001b[32m\n",
      "Next speaker: Critic\n",
      "\u001b[0m\n",
      "\u001b[33mCritic\u001b[0m (to chat_manager):\n",
      "\n",
      "Critic: Team B total: 7  \n",
      "NEXT: C1\n",
      "\n",
      "--------------------------------------------------------------------------------\n",
      "\u001b[32m\n",
      "Next speaker: C0\n",
      "\u001b[0m\n",
      "\u001b[33mC0\u001b[0m (to chat_manager):\n",
      "\n",
      "C1: I have 2 chocolates.  \n",
      "NEXT: C2\n",
      "\n",
      "--------------------------------------------------------------------------------\n",
      "\u001b[32m\n",
      "Next speaker: B0\n",
      "\u001b[0m\n",
      "\u001b[33mB0\u001b[0m (to chat_manager):\n",
      "\n",
      "Critic: Team C total: 2  \n",
      "Next: A0\n",
      "\n",
      "--------------------------------------------------------------------------------\n",
      "\u001b[32m\n",
      "Next speaker: B1\n",
      "\u001b[0m\n",
      "\u001b[33mB1\u001b[0m (to chat_manager):\n",
      "\n",
      "A0: Team A total: 5  \n",
      "Next: B0\n",
      "\n",
      "--------------------------------------------------------------------------------\n",
      "\u001b[32m\n",
      "Next speaker: B0\n",
      "\u001b[0m\n",
      "\u001b[33mB0\u001b[0m (to chat_manager):\n",
      "\n",
      "Critic: Team A total: 5, Team B total: 7, Team C total: 2  \n",
      "Grand Total: 14  \n",
      "TERMINATE\n",
      "\n",
      "--------------------------------------------------------------------------------\n"
     ]
    },
    {
     "data": {
      "text/plain": [
       "ChatResult(chat_id=None, chat_history=[{'content': '\\nThere are 9 players across Teams A, B, C. Each team has 3 players.\\nYour job is to count the total chocolates.\\nOnly say your own count. Team leaders must summarize team total after members report.\\nCritic will validate after each team finishes.\\n\\nStart with Team A.\\nNEXT: A1\\n', 'role': 'assistant', 'name': 'A0'}, {'content': 'A1: I have 3 chocolates.\\nNEXT: A2', 'name': 'A1', 'role': 'user'}, {'content': 'A2: I have 2 chocolates.\\nNEXT: A0', 'name': 'A2', 'role': 'user'}, {'content': 'A0: Team A total: 5  \\nNEXT: B1', 'name': 'A1', 'role': 'user'}, {'content': 'B1: I have 4 chocolates.\\nNEXT: B2', 'name': 'A2', 'role': 'user'}, {'content': 'B2: I have 3 chocolates.\\nNEXT: B0', 'role': 'assistant', 'name': 'A0'}, {'content': 'Critic: Team B total: 7  \\nNEXT: C1', 'name': 'Critic', 'role': 'user'}, {'content': 'C1: I have 2 chocolates.  \\nNEXT: C2', 'name': 'C0', 'role': 'user'}, {'content': 'Critic: Team C total: 2  \\nNext: A0', 'name': 'B0', 'role': 'user'}, {'content': 'A0: Team A total: 5  \\nNext: B0', 'name': 'B1', 'role': 'user'}, {'content': 'Critic: Team A total: 5, Team B total: 7, Team C total: 2  \\nGrand Total: 14  \\nTERMINATE', 'name': 'B0', 'role': 'user'}], summary='Critic: Team A total: 5, Team B total: 7, Team C total: 2  \\nGrand Total: 14  \\n', cost={'usage_including_cached_inference': {'total_cost': 0.0002675, 'gpt-3.5-turbo-0125': {'cost': 0.0002675, 'prompt_tokens': 496, 'completion_tokens': 13, 'total_tokens': 509}}, 'usage_excluding_cached_inference': {'total_cost': 0.0002675, 'gpt-3.5-turbo-0125': {'cost': 0.0002675, 'prompt_tokens': 496, 'completion_tokens': 13, 'total_tokens': 509}}}, human_input=[])"
      ]
     },
     "execution_count": 26,
     "metadata": {},
     "output_type": "execute_result"
    }
   ],
   "source": [
    "# Start the chat by prompting A1 to go first\n",
    "agents[0].initiate_chat(\n",
    "    manager,\n",
    "    message=\"\"\"\n",
    "There are 9 players across Teams A, B, C. Each team has 3 players.\n",
    "Your job is to count the total chocolates.\n",
    "Only say your own count. Team leaders must summarize team total after members report.\n",
    "Critic will validate after each team finishes.\n",
    "\n",
    "Start with Team A.\n",
    "NEXT: A1\n",
    "\"\"\"\n",
    ")\n"
   ]
  }
 ],
 "metadata": {
  "kernelspec": {
   "display_name": "autogenenv",
   "language": "python",
   "name": "python3"
  },
  "language_info": {
   "codemirror_mode": {
    "name": "ipython",
    "version": 3
   },
   "file_extension": ".py",
   "mimetype": "text/x-python",
   "name": "python",
   "nbconvert_exporter": "python",
   "pygments_lexer": "ipython3",
   "version": "3.12.11"
  }
 },
 "nbformat": 4,
 "nbformat_minor": 5
}
